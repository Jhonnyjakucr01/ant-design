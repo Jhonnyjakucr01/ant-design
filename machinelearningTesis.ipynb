{
  "nbformat": 4,
  "nbformat_minor": 0,
  "metadata": {
    "colab": {
      "provenance": [],
      "authorship_tag": "ABX9TyMeVK6dZRGJ5OFzw/f3zqOV",
      "include_colab_link": true
    },
    "kernelspec": {
      "name": "python3",
      "display_name": "Python 3"
    },
    "language_info": {
      "name": "python"
    }
  },
  "cells": [
    {
      "cell_type": "markdown",
      "metadata": {
        "id": "view-in-github",
        "colab_type": "text"
      },
      "source": [
        "<a href=\"https://colab.research.google.com/github/Jhonnyjakucr01/ant-design/blob/master/machinelearningTesis.ipynb\" target=\"_parent\"><img src=\"https://colab.research.google.com/assets/colab-badge.svg\" alt=\"Open In Colab\"/></a>"
      ]
    },
    {
      "cell_type": "code",
      "execution_count": 20,
      "metadata": {
        "colab": {
          "base_uri": "https://localhost:8080/"
        },
        "id": "Z2NTT5OXUG-E",
        "outputId": "f4fe14ec-afde-4206-b4f2-24623836e8e0"
      },
      "outputs": [
        {
          "output_type": "stream",
          "name": "stdout",
          "text": [
            "    comuna  homicidios 2017  homicidios 2018  homicidios 2019  \\\n",
            "0        1               15                9               24   \n",
            "1        2               32               25               27   \n",
            "2        3               37               46               30   \n",
            "3        4               28               22               19   \n",
            "4        5               12               11               18   \n",
            "5        6               63               83               67   \n",
            "6        7               44               38               33   \n",
            "7        8               38               51               46   \n",
            "8        9               53               44               43   \n",
            "9       10               36               46               35   \n",
            "10      11               49               39               39   \n",
            "11      12               33               40               34   \n",
            "12      13              138              104               99   \n",
            "13      14              117              111              111   \n",
            "14      15              148              139              138   \n",
            "15      16               51               45               47   \n",
            "16      17               30               28               28   \n",
            "17      18               58               64               78   \n",
            "18      19               26               34               29   \n",
            "19      20               97               77               58   \n",
            "20      21               99               84               87   \n",
            "21      22                4                2                8   \n",
            "\n",
            "    homicidios 2020  homicidios 2022  homicidios 2023  \n",
            "0                17               14               16  \n",
            "1                22               29               29  \n",
            "2                29               34               44  \n",
            "3                25               28               29  \n",
            "4                12               16                9  \n",
            "5                44               42               50  \n",
            "6                44               24               30  \n",
            "7                28               37               35  \n",
            "8                30               39               48  \n",
            "9                52               31               29  \n",
            "10               48               41               30  \n",
            "11               37               35               29  \n",
            "12               98               78              116  \n",
            "13              102              104               68  \n",
            "14              103              103              125  \n",
            "15               36               33               37  \n",
            "16               31               26               30  \n",
            "17               59               76               69  \n",
            "18               29               31               31  \n",
            "19               48               66               49  \n",
            "20               73               70               78  \n",
            "21                3                2                4  \n"
          ]
        }
      ],
      "source": [
        "import pandas as pd\n",
        "import numpy as np\n",
        "import matplotlib.pyplot as plt\n",
        "from sklearn.preprocessing import PolynomialFeatures\n",
        "from sklearn.linear_model import LinearRegression\n",
        "from sklearn.ensemble import RandomForestRegressor\n",
        "\n",
        "# 📂 Cargar los datos\n",
        "df = pd.read_excel(\"homicidios cali.xlsx\")\n",
        "\n",
        "# 🛠️ Asegurar que los nombres de las columnas no tengan espacios extra\n",
        "df.columns = df.columns.str.strip()\n",
        "\n",
        "# 📊 Ver los primeros datos para confirmar que todo está bien\n",
        "print(df.head(22))"
      ]
    },
    {
      "cell_type": "code",
      "source": [
        "# 📌 Definir los años de entrenamiento y el año a predecir\n",
        "X_años = np.array([2017,2018, 2019, 2020, 2022, 2023]).reshape(-1, 1)  # Años de entrenamiento\n",
        "df[\"homicidios 2024 predicho\"] = 0  # Columna para almacenar la predicción\n",
        "\n",
        "# 🔥 PROBAR DOS MODELOS: Regresión Polinómica y Random Forest\n",
        "poly = PolynomialFeatures(degree=3)  # Ajusta el grado si es necesario\n",
        "X_poly = poly.fit_transform(X_años)\n",
        "\n",
        "for i in range(len(df)):\n",
        "    # 📌 Datos de homicidios por comuna\n",
        "    y = np.array([\n",
        "        df.loc[i, \"homicidios 2017\"],\n",
        "        df.loc[i, \"homicidios 2018\"],\n",
        "        df.loc[i, \"homicidios 2019\"],\n",
        "        df.loc[i, \"homicidios 2020\"],\n",
        "        df.loc[i, \"homicidios 2022\"],\n",
        "        df.loc[i, \"homicidios 2023\"]\n",
        "    ])\n",
        "\n",
        "    # 📈 REGRESIÓN POLINÓMICA\n",
        "    model_poly = LinearRegression()\n",
        "    model_poly.fit(X_poly, y)\n",
        "\n",
        "    # 📉 RANDOM FOREST REGRESSOR\n",
        "    model_rf = RandomForestRegressor(n_estimators=100, random_state=42)\n",
        "    X_train = X_años.flatten().reshape(-1, 1)  # Formato correcto\n",
        "    model_rf.fit(X_train, y)\n",
        "\n",
        "    # 📊 Predecir para el año 2024 con ambos modelos\n",
        "    X_pred = np.array([2017,2018, 2019, 2020, 2022, 2023, 2024]).reshape(-1, 1)\n",
        "    X_pred_poly = poly.transform(X_pred)\n",
        "\n",
        "    pred_2024_poly = model_poly.predict(X_pred_poly)[-1]  # Regresión Polinómica\n",
        "    pred_2024_rf = model_rf.predict(np.array([[2024]]))[0]  # Random Forest\n",
        "\n",
        "    # 🚀 Usamos el promedio de ambos modelos para mejorar la predicción\n",
        "    pred_final = round((pred_2024_poly + pred_2024_rf) / 2)\n",
        "    df.loc[i, \"homicidios 2024 predicho\"] = pred_final\n",
        "\n"
      ],
      "metadata": {
        "id": "MfXl4--03p3z"
      },
      "execution_count": 21,
      "outputs": []
    },
    {
      "cell_type": "code",
      "source": [
        "# ✅ Mostrar los resultados\n",
        "print(df[[\"comuna\",\"homicidios 2017\", \"homicidios 2018\", \"homicidios 2019\",\"homicidios 2020\", \"homicidios 2022\", \"homicidios 2023\", \"homicidios 2024 predicho\"]])\n",
        "\n",
        "# 📉 Graficar una comuna específica para ver su evolución\n",
        "comuna_ejemplo = 0  # Cambiar por el índice de la comuna a analizar\n",
        "X_pred = np.array([2018, 2019, 2020, 2022, 2023, 2024]).reshape(-1, 1)\n",
        "y_pred = df.loc[comuna_ejemplo, [\"homicidios 2018\", \"homicidios 2019\", \"homicidios 2020\",\"homicidios 2022\", \"homicidios 2023\", \"homicidios 2024 predicho\"]].values\n",
        "\n",
        "plt.plot(X_pred, y_pred, marker='o', linestyle='-', label=f'Comuna {df.loc[comuna_ejemplo, \"comuna\"]}')\n",
        "plt.xlabel(\"Año\")\n",
        "plt.ylabel(\"Homicidios\")\n",
        "plt.title(\"Evolución de Homicidios\")\n",
        "plt.legend()\n",
        "plt.show()\n"
      ],
      "metadata": {
        "colab": {
          "base_uri": "https://localhost:8080/",
          "height": 1000
        },
        "id": "LKfc69Dg4BYt",
        "outputId": "b2556d0e-7e58-4c95-b901-5560e564ccf4"
      },
      "execution_count": 22,
      "outputs": [
        {
          "output_type": "stream",
          "name": "stdout",
          "text": [
            "    comuna  homicidios 2017  homicidios 2018  homicidios 2019  \\\n",
            "0        1               15                9               24   \n",
            "1        2               32               25               27   \n",
            "2        3               37               46               30   \n",
            "3        4               28               22               19   \n",
            "4        5               12               11               18   \n",
            "5        6               63               83               67   \n",
            "6        7               44               38               33   \n",
            "7        8               38               51               46   \n",
            "8        9               53               44               43   \n",
            "9       10               36               46               35   \n",
            "10      11               49               39               39   \n",
            "11      12               33               40               34   \n",
            "12      13              138              104               99   \n",
            "13      14              117              111              111   \n",
            "14      15              148              139              138   \n",
            "15      16               51               45               47   \n",
            "16      17               30               28               28   \n",
            "17      18               58               64               78   \n",
            "18      19               26               34               29   \n",
            "19      20               97               77               58   \n",
            "20      21               99               84               87   \n",
            "21      22                4                2                8   \n",
            "\n",
            "    homicidios 2020  homicidios 2022  homicidios 2023  \\\n",
            "0                17               14               16   \n",
            "1                22               29               29   \n",
            "2                29               34               44   \n",
            "3                25               28               29   \n",
            "4                12               16                9   \n",
            "5                44               42               50   \n",
            "6                44               24               30   \n",
            "7                28               37               35   \n",
            "8                30               39               48   \n",
            "9                52               31               29   \n",
            "10               48               41               30   \n",
            "11               37               35               29   \n",
            "12               98               78              116   \n",
            "13              102              104               68   \n",
            "14              103              103              125   \n",
            "15               36               33               37   \n",
            "16               31               26               30   \n",
            "17               59               76               69   \n",
            "18               29               31               31   \n",
            "19               48               66               49   \n",
            "20               73               70               78   \n",
            "21                3                2                4   \n",
            "\n",
            "    homicidios 2024 predicho  \n",
            "0                         15  \n",
            "1                         29  \n",
            "2                         57  \n",
            "3                         26  \n",
            "4                          6  \n",
            "5                         75  \n",
            "6                         27  \n",
            "7                         48  \n",
            "8                         57  \n",
            "9                         25  \n",
            "10                        16  \n",
            "11                        28  \n",
            "12                       128  \n",
            "13                        49  \n",
            "14                       151  \n",
            "15                        42  \n",
            "16                        30  \n",
            "17                        73  \n",
            "18                        35  \n",
            "19                        42  \n",
            "20                        84  \n",
            "21                         6  \n"
          ]
        },
        {
          "output_type": "display_data",
          "data": {
            "text/plain": [
              "<Figure size 640x480 with 1 Axes>"
            ],
            "image/png": "[encoded data removed]"
          },
          "metadata": {}
        }
      ]
    }
  ]
}